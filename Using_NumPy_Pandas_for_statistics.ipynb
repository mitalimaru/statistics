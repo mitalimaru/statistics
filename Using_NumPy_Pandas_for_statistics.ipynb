{
 "cells": [
  {
   "cell_type": "code",
   "execution_count": 8,
   "id": "0e7151a2",
   "metadata": {},
   "outputs": [],
   "source": [
    "import numpy as np\n",
    "import matplotlib.pyplot as plt\n",
    "import pandas as pd\n",
    "from scipy.stats import uniform, norm, expon"
   ]
  },
  {
   "cell_type": "markdown",
   "id": "205acf23",
   "metadata": {},
   "source": [
    "Branch banks must keep enough money on hand to satisfy customers' cash demands.  An armored truck delivers cash to the bank once a week.  The bank manager can choose the amount of weekly cash to have delivered.  Running out of cash during the week is terrible customer service and the manager wants to avoid this.  On the other hand, keeping excessive cash reserves costs the bank profits, since cash is a non-interest earning asset.  \n",
    "\n",
    "The daily demand for cash at this particular bank follows a normal distribution with daily means and std dev summarized in Table 1.\n",
    "\n",
    "**Table 1**\n",
    "\n",
    "|                   |Monday|Tuesday|Wednesday|Thursday|Friday|Saturday|Sunday|\n",
    "|:-----------------:|:----:|:-----:|:-------:|:------:|:----:|:------:|:----:|\n",
    "|Mean (\\\\$1,000s)   |175   |120    |90       |60      |120   |140     |65    |\n",
    "|Std Dev (\\\\$1,000s)|26    |18     |13       |9       |18    |21      |9     |  \n",
    "\n",
    "  \n",
    "  \n",
    "  \n",
    "a.  Suppose the bank manager starts the week with \\\\$825,000.  Create a model for daily ending balance and use 10,000 simluations to determine the probability of the bank running out of money at some point during the week.\n",
    "\n",
    "\n",
    "b.  Estimate the amount of money needed at the start of the week to ensure that there is at most a 2.0\\% probability of running out of money.\n"
   ]
  },
  {
   "cell_type": "code",
   "execution_count": 9,
   "id": "fb4bec2b",
   "metadata": {},
   "outputs": [
    {
     "data": {
      "text/plain": [
       "[26, 18, 13, 9, 18, 21, 9]"
      ]
     },
     "execution_count": 9,
     "metadata": {},
     "output_type": "execute_result"
    }
   ],
   "source": [
    "means = [175, 120, 90, 60, 120, 140, 65]\n",
    "sds = [26, 18, 13, 9, 18, 21, 9]\n",
    "\n",
    "sds"
   ]
  },
  {
   "cell_type": "code",
   "execution_count": 10,
   "id": "bee6f5d8",
   "metadata": {},
   "outputs": [
    {
     "data": {
      "text/plain": [
       "175"
      ]
     },
     "execution_count": 10,
     "metadata": {},
     "output_type": "execute_result"
    }
   ],
   "source": [
    "means[0]"
   ]
  },
  {
   "cell_type": "code",
   "execution_count": 11,
   "id": "a36201e0",
   "metadata": {},
   "outputs": [],
   "source": [
    "## Simulation model for Cash Balance\n",
    "def simulate_daily_ending_balance(initial_balance, daily_means, daily_std_devs, n_simulations):\n",
    "    # Initialize the count of simulations where the bank runs out of money\n",
    "    shortages = 0\n",
    "    # Perform the simulations\n",
    "    for _ in range(n_simulations):\n",
    "        balance = initial_balance\n",
    "        # Simulate the cash demands for each day of the week\n",
    "        for mean, std_dev in zip(daily_means, daily_std_devs):\n",
    "            daily_demand = np.random.normal(mean * 1000, std_dev * 1000)\n",
    "            balance -= daily_demand\n",
    "            # Check if the bank runs out of money\n",
    "            if balance < 0:\n",
    "                shortages += 1\n",
    "                break\n",
    "    # Calculate the probability of running out of money\n",
    "    probability_of_shortage = shortages / n_simulations\n",
    "    return probability_of_shortage\n"
   ]
  },
  {
   "cell_type": "code",
   "execution_count": 12,
   "id": "9eb86184",
   "metadata": {},
   "outputs": [
    {
     "name": "stdout",
     "output_type": "stream",
     "text": [
      "Probability of the bank running out of money: 0.1154\n"
     ]
    }
   ],
   "source": [
    "## Simulation Trials\n",
    "\n",
    "import numpy as np\n",
    "\n",
    "def simulation_trials(initial_balance, daily_means, daily_std_devs, n_simulations):\n",
    "    # This function will store each trial's result\n",
    "    trials_results = []\n",
    "    for _ in range(n_simulations):\n",
    "        result = simulate_daily_ending_balance(initial_balance, daily_means, daily_std_devs, 1)\n",
    "        trials_results.append(result)\n",
    "    # Return the list of results\n",
    "    return trials_results\n",
    "\n",
    "# Parameters\n",
    "initial_balance = 825000  # Starting balance for the week\n",
    "daily_means = np.array([175, 120, 90, 60, 120, 140, 65])  # Daily means in $1,000s\n",
    "daily_std_devs = np.array([26, 18, 13, 9, 18, 21, 9])  # Daily standard deviations in $1,000s\n",
    "n_simulations = 10000  # Number of simulations\n",
    "\n",
    "# Execute the simulation model for cash balance\n",
    "probability_of_shortage = simulate_daily_ending_balance(initial_balance, daily_means, daily_std_devs, n_simulations)\n",
    "\n",
    "# Execute the simulation trials to collect individual trial results\n",
    "trials_results = simulation_trials(initial_balance, daily_means, daily_std_devs, n_simulations)\n",
    "\n",
    "# Output the probability of shortage from the simulation model\n",
    "print(f\"Probability of the bank running out of money: {probability_of_shortage:.4f}\")\n"
   ]
  },
  {
   "cell_type": "markdown",
   "id": "1588dab8",
   "metadata": {},
   "source": [
    "a.  Suppose the bank manager starts the week with \\\\$825,000.  Create a model for daily ending balance and use 10,000 simluations to determine the probability of the bank running out of money at some point during the week.\n",
    "\n",
    "Answer Here_____"
   ]
  },
  {
   "cell_type": "code",
   "execution_count": 13,
   "id": "df44410c",
   "metadata": {},
   "outputs": [
    {
     "name": "stdout",
     "output_type": "stream",
     "text": [
      "Minimum starting balance required: $863,281.25\n"
     ]
    }
   ],
   "source": [
    "## Balance What-If\n",
    "import numpy as np\n",
    "\n",
    "# Function to simulate daily ending balance\n",
    "def simulate_daily_ending_balance(initial_balance, daily_means, daily_std_devs, n_simulations):\n",
    "    shortages = 0\n",
    "    for _ in range(n_simulations):\n",
    "        balance = initial_balance\n",
    "        for mean, std_dev in zip(daily_means, daily_std_devs):\n",
    "            daily_demand = np.random.normal(mean * 1000, std_dev * 1000)\n",
    "            balance -= daily_demand\n",
    "            if balance < 0:\n",
    "                shortages += 1\n",
    "                break\n",
    "    probability_of_shortage = shortages / n_simulations\n",
    "    return probability_of_shortage\n",
    "\n",
    "# Function to find the minimum balance required to ensure at most a 2% probability of running out of money\n",
    "def find_minimum_balance(daily_means, daily_std_devs, n_simulations, target_probability):\n",
    "    low_balance = 0\n",
    "    high_balance = 1000000  # Assuming a high initial balance that is unlikely to be reached\n",
    "    tolerance = 1000  # Tolerance for binary search stopping criterion\n",
    "    \n",
    "    while low_balance + tolerance < high_balance:\n",
    "        mid_balance = (low_balance + high_balance) / 2\n",
    "        probability = simulate_daily_ending_balance(mid_balance, daily_means, daily_std_devs, n_simulations)\n",
    "        if probability > target_probability:\n",
    "            low_balance = mid_balance\n",
    "        else:\n",
    "            high_balance = mid_balance\n",
    "            \n",
    "    return high_balance\n",
    "\n",
    "# Daily means and standard deviations for cash demand\n",
    "daily_means = np.array([175, 120, 90, 60, 120, 140, 65])\n",
    "daily_std_devs = np.array([26, 18, 13, 9, 18, 21, 9])\n",
    "n_simulations = 10000\n",
    "target_probability = 0.02  # 2% target probability\n",
    "\n",
    "# Estimate the minimum balance required\n",
    "minimum_balance_required = find_minimum_balance(daily_means, daily_std_devs, n_simulations, target_probability)\n",
    "print(f\"Minimum starting balance required: ${minimum_balance_required:,.2f}\")\n",
    "\n"
   ]
  },
  {
   "cell_type": "markdown",
   "id": "8c3f289c",
   "metadata": {},
   "source": [
    "b. Estimate the amount of money needed at the start of the week to ensure that there is at most a 2.0% probability of running out of money.\n",
    "\n",
    "Answer Here $863,281.25"
   ]
  }
 ],
 "metadata": {
  "kernelspec": {
   "display_name": "Python 3 (ipykernel)",
   "language": "python",
   "name": "python3"
  },
  "language_info": {
   "codemirror_mode": {
    "name": "ipython",
    "version": 3
   },
   "file_extension": ".py",
   "mimetype": "text/x-python",
   "name": "python",
   "nbconvert_exporter": "python",
   "pygments_lexer": "ipython3",
   "version": "3.11.5"
  }
 },
 "nbformat": 4,
 "nbformat_minor": 5
}
