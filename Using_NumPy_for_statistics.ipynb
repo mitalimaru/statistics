{
 "cells": [
  {
   "cell_type": "code",
   "execution_count": 11,
   "id": "e30d6700",
   "metadata": {},
   "outputs": [],
   "source": [
    "# Question 1"
   ]
  },
  {
   "cell_type": "code",
   "execution_count": 12,
   "id": "af0519f4",
   "metadata": {},
   "outputs": [],
   "source": [
    "# Importing numpy\n",
    "\n",
    "import numpy as np"
   ]
  },
  {
   "cell_type": "code",
   "execution_count": 13,
   "id": "c12aaf0b",
   "metadata": {},
   "outputs": [],
   "source": [
    "# Given:\n",
    "\n",
    "hailSeverityLevels = np.array([0, 12, 24, 36, 48, 60, 72, 84])\n",
    "probabilities = np.array([0.09, 0.14, 0.17, 0.09, 0.08, 0.09, 0.16, 0.18])\n",
    "insurancePlansCosts = np.array([42000, 18000, 0])  # Plan A, Plan B, Plan C\n",
    "deductibleAmount = 30000"
   ]
  },
  {
   "cell_type": "code",
   "execution_count": 14,
   "id": "600e9b14",
   "metadata": {},
   "outputs": [],
   "source": [
    "# Calculate the expected damage costs and the standard deviation of the distribution."
   ]
  },
  {
   "cell_type": "code",
   "execution_count": 15,
   "id": "1ba9a130",
   "metadata": {},
   "outputs": [
    {
     "name": "stdout",
     "output_type": "stream",
     "text": [
      "Expected Costs of Damage: 44.88\n"
     ]
    }
   ],
   "source": [
    "# Computing expected damage costs\n",
    "\n",
    "expectedCostsOfDamage = np.dot(hailSeverityLevels, probabilities)\n",
    "print(\"Expected Costs of Damage: {:.2f}\".format(expectedCostsOfDamage))"
   ]
  },
  {
   "cell_type": "code",
   "execution_count": 16,
   "id": "e6a8fc19",
   "metadata": {},
   "outputs": [
    {
     "name": "stdout",
     "output_type": "stream",
     "text": [
      "Standard Deviation of Damage Costs: 28.78\n"
     ]
    }
   ],
   "source": [
    "# Calculating standard deviation of damage costs\n",
    "\n",
    "stdDevDamageCosts = np.sqrt(np.dot((hailSeverityLevels - expectedCostsOfDamage)**2, probabilities))\n",
    "print(\"Standard Deviation of Damage Costs: {:.2f}\".format(stdDevDamageCosts))"
   ]
  },
  {
   "cell_type": "code",
   "execution_count": 17,
   "id": "7d4f3580",
   "metadata": {},
   "outputs": [],
   "source": [
    "# Generating payoff matrix\n",
    "\n",
    "numPlans = 3\n",
    "payoffMatrix = np.zeros((numPlans, len(hailSeverityLevels)))\n",
    "\n",
    "for i in range(len(hailSeverityLevels)):\n",
    "    severityLevel = hailSeverityLevels[i]\n",
    "    payoffMatrix[0][i] = -insurancePlansCosts[0]  # Option A: Full coverage\n",
    "    if severityLevel > deductibleAmount:\n",
    "        payoffMatrix[1][i] = -insurancePlansCosts[1]  # Option B: Partial coverage\n",
    "    payoffMatrix[2][i] = severityLevel  # Option C: Self-insurance"
   ]
  },
  {
   "cell_type": "code",
   "execution_count": 18,
   "id": "c46cd601",
   "metadata": {},
   "outputs": [],
   "source": [
    "# Decision criteria\n",
    "\n",
    "maximaxDecision = np.argmax(np.max(payoffMatrix, axis=1))\n",
    "maximinDecision = np.argmin(np.min(payoffMatrix, axis=1))\n",
    "minimaxRegretDecision = np.argmin(np.max(payoffMatrix.max() - payoffMatrix, axis=1))\n",
    "expectedMonetaryValueDecision = np.argmax(np.dot(payoffMatrix, probabilities))\n",
    "expectedOpportunityLossDecision = np.argmin(np.dot((payoffMatrix.max(axis=0) - payoffMatrix), probabilities))"
   ]
  },
  {
   "cell_type": "code",
   "execution_count": 19,
   "id": "54cc2b22",
   "metadata": {},
   "outputs": [
    {
     "name": "stdout",
     "output_type": "stream",
     "text": [
      "Decision Results:\n",
      "Maximax Strategy: Plan 3\n",
      "Maximin Strategy: Plan 1\n",
      "Minimax Regret Strategy: Plan 2\n",
      "Expected Monetary Value (EMV) Strategy: Plan 3\n",
      "Expected Opportunity Loss (EOL) Strategy: Plan 3\n"
     ]
    }
   ],
   "source": [
    "# Results\n",
    "\n",
    "print(\"Decision Results:\")\n",
    "print(\"Maximax Strategy:\", \"Plan\", maximaxDecision + 1)\n",
    "print(\"Maximin Strategy:\", \"Plan\", maximinDecision + 1)\n",
    "print(\"Minimax Regret Strategy:\", \"Plan\", minimaxRegretDecision + 1)\n",
    "print(\"Expected Monetary Value (EMV) Strategy:\", \"Plan\", expectedMonetaryValueDecision + 1)\n",
    "print(\"Expected Opportunity Loss (EOL) Strategy:\", \"Plan\", expectedOpportunityLossDecision + 1)"
   ]
  },
  {
   "cell_type": "code",
   "execution_count": 20,
   "id": "51589853",
   "metadata": {
    "scrolled": true
   },
   "outputs": [
    {
     "name": "stdout",
     "output_type": "stream",
     "text": [
      "[[-42000.00 -42000.00 -42000.00 -42000.00 -42000.00 -42000.00 -42000.00\n",
      "  -42000.00]\n",
      " [ 0.00  0.00  0.00  0.00  0.00  0.00  0.00  0.00]\n",
      " [ 0.00  12.00  24.00  36.00  48.00  60.00  72.00  84.00]]\n"
     ]
    }
   ],
   "source": [
    "np.set_printoptions(formatter={'float': '{: .2f}'.format})\n",
    "\n",
    "# Print the array\n",
    "print(payoffMatrix)\n",
    "\n"
   ]
  },
  {
   "cell_type": "code",
   "execution_count": 76,
   "id": "14e86bd9",
   "metadata": {},
   "outputs": [],
   "source": [
    "# Question 2"
   ]
  },
  {
   "cell_type": "code",
   "execution_count": 77,
   "id": "6c648955",
   "metadata": {},
   "outputs": [],
   "source": [
    "# Importing math\n",
    "\n",
    "import math"
   ]
  },
  {
   "cell_type": "code",
   "execution_count": 78,
   "id": "6095c469",
   "metadata": {},
   "outputs": [],
   "source": [
    "# Defining the profits and probabilities for each project\n",
    "\n",
    "projectProfits = {\n",
    "    'Project_A': [23.00, 23.00, 23.00, 23.00],\n",
    "    'Project_B': [17.20, 19.00, 22.50, 30.00],\n",
    "    'Project_C': [12.00, 12.00, 12.00, 60.00]\n",
    "}\n",
    "projectProbabilities = [0.15, 0.15, 0.4, 0.3]"
   ]
  },
  {
   "cell_type": "code",
   "execution_count": 79,
   "id": "b7b1fe80",
   "metadata": {},
   "outputs": [
    {
     "name": "stdout",
     "output_type": "stream",
     "text": [
      "Expected Profits:\n",
      "Project_A: $23.00\n",
      "Project_B: $23.43\n",
      "Project_C: $26.40\n"
     ]
    }
   ],
   "source": [
    "# Expected Profit\n",
    "\n",
    "def calculateExpectedProfit(profits, probabilities):\n",
    "    expectedProfits = []\n",
    "    for project, profitList in profits.items():\n",
    "        expectedProfit = np.dot(profitList, probabilities)\n",
    "        expectedProfits.append((project, expectedProfit))\n",
    "    return expectedProfits\n",
    "\n",
    "expectedProfitResults = calculateExpectedProfit(projectProfits, projectProbabilities)\n",
    "\n",
    "print(\"Expected Profits:\")\n",
    "for project, expectedProfit in expectedProfitResults:\n",
    "    print(f\"{project}: ${expectedProfit:.2f}\")"
   ]
  },
  {
   "cell_type": "code",
   "execution_count": 80,
   "id": "0b2cd676",
   "metadata": {},
   "outputs": [
    {
     "name": "stdout",
     "output_type": "stream",
     "text": [
      "Bonita's Expected Utility of Profits:\n",
      "Project_A: 6.27\n",
      "Project_B: 6.27\n",
      "Project_C: 5.94\n"
     ]
    }
   ],
   "source": [
    "# Bonita's Expected Utility of Profit\n",
    "\n",
    "def calculateExpectedUtility(profits, probabilities):\n",
    "    expectedUtilities = []\n",
    "    for project, profitList in profits.items():\n",
    "        expectedUtility = sum([prob * (2 * math.log(profit)) for prob, profit in zip(probabilities, profitList)])\n",
    "        expectedUtilities.append((project, expectedUtility))\n",
    "    return expectedUtilities\n",
    "\n",
    "expectedUtilityResults = calculateExpectedUtility(projectProfits, projectProbabilities)\n",
    "\n",
    "print(\"Bonita's Expected Utility of Profits:\")\n",
    "for project, expectedUtility in expectedUtilityResults:\n",
    "    print(f\"{project}: {expectedUtility:.2f}\")"
   ]
  },
  {
   "cell_type": "code",
   "execution_count": 81,
   "id": "2e98f560",
   "metadata": {},
   "outputs": [
    {
     "name": "stdout",
     "output_type": "stream",
     "text": [
      "If Bonita is maximizing expected profit, she will choose: Project_C\n",
      "If Bonita is maximizing expected utility, she will choose: Project_A\n"
     ]
    }
   ],
   "source": [
    "# Finding project with maximum expected profit and maximum expected utility for Bonita\n",
    "\n",
    "maxExpectedProfitBonita = max(expectedProfitResults, key=lambda x: x[1])[0]\n",
    "maxExpectedUtilityBonita = max(expectedUtilityResults, key=lambda x: x[1])[0]\n",
    "\n",
    "# Displaying Bonita's choices\n",
    "\n",
    "print(\"If Bonita is maximizing expected profit, she will choose:\", maxExpectedProfitBonita)\n",
    "print(\"If Bonita is maximizing expected utility, she will choose:\", maxExpectedUtilityBonita)"
   ]
  },
  {
   "cell_type": "code",
   "execution_count": 82,
   "id": "0b4b0ff1",
   "metadata": {},
   "outputs": [
    {
     "name": "stdout",
     "output_type": "stream",
     "text": [
      "Jasper's Expected Utility of Profits:\n",
      "Project_A: 4.80\n",
      "Project_B: 4.82\n",
      "Project_C: 4.75\n"
     ]
    }
   ],
   "source": [
    "# Defining utility function for Jasper\n",
    "def jaspersUtilityFunction(profit):\n",
    "    return math.sqrt(profit)\n",
    "\n",
    "# Calculating Jasper's expected utility of profit for each project\n",
    "def jaspersExpectedUtility(profits, probabilities):\n",
    "    expectedUtilities = []\n",
    "    for project, profitList in profits.items():\n",
    "        expectedUtility = sum([prob * jaspersUtilityFunction(profit) for prob, profit in zip(probabilities, profitList)])\n",
    "        expectedUtilities.append((project, expectedUtility))\n",
    "    return expectedUtilities\n",
    "\n",
    "jaspersExpectedUtilityResults = jaspersExpectedUtility(projectProfits, projectProbabilities)\n",
    "\n",
    "print(\"Jasper's Expected Utility of Profits:\")\n",
    "for project, expectedUtility in jaspersExpectedUtilityResults:\n",
    "    print(f\"{project}: {expectedUtility:.2f}\")"
   ]
  },
  {
   "cell_type": "code",
   "execution_count": 83,
   "id": "810f7791",
   "metadata": {},
   "outputs": [
    {
     "name": "stdout",
     "output_type": "stream",
     "text": [
      "If Jasper is maximizing expected profit, he will choose: Project_C\n",
      "If Jasper is maximizing expected utility, he will choose: Project_B\n"
     ]
    }
   ],
   "source": [
    "# Finding project with maximum expected profit and maximum expected utility for Jasper\n",
    "\n",
    "maxExpectedProfitJasper = max(expectedProfitResults, key=lambda x: x[1])[0]\n",
    "maxExpectedUtilityJasper = max(jaspersExpectedUtilityResults, key=lambda x: x[1])[0]\n",
    "\n",
    "# Displaying Jasper's choices\n",
    "\n",
    "print(\"If Jasper is maximizing expected profit, he will choose:\", maxExpectedProfitJasper)\n",
    "print(\"If Jasper is maximizing expected utility, he will choose:\", maxExpectedUtilityJasper)"
   ]
  },
  {
   "cell_type": "code",
   "execution_count": 84,
   "id": "c93bed0c",
   "metadata": {},
   "outputs": [
    {
     "name": "stdout",
     "output_type": "stream",
     "text": [
      "Bonita's Certainty Equivalent for Project Charlie: 10.74\n",
      "Jasper's Certainty Equivalent for Project Charlie: 22.55\n"
     ]
    }
   ],
   "source": [
    "# Calculating the certainty equivalent for Bonita (using the ln utility function)\n",
    "\n",
    "bonitaExpectedUtilityCharlie = jaspersExpectedUtilityResults[2][1] \n",
    "bonitaCertaintyEquivalent = math.exp(bonitaExpectedUtilityCharlie / 2) \n",
    "\n",
    "# Calculating the certainty equivalent for Jasper (using the sqrt utility function)\n",
    "\n",
    "jasperExpectedUtilityCharlie = jaspersExpectedUtilityResults[2][1]\n",
    "jasperCertaintyEquivalent = jasperExpectedUtilityCharlie ** 2 \n",
    "\n",
    "# Certainty equivalents\n",
    "\n",
    "print(\"Bonita's Certainty Equivalent for Project Charlie:\", round(bonitaCertaintyEquivalent, 2))\n",
    "print(\"Jasper's Certainty Equivalent for Project Charlie:\", round(jasperCertaintyEquivalent, 2))"
   ]
  },
  {
   "cell_type": "code",
   "execution_count": 85,
   "id": "2555b91d",
   "metadata": {},
   "outputs": [],
   "source": [
    "# Thank You"
   ]
  }
 ],
 "metadata": {
  "kernelspec": {
   "display_name": "Python 3 (ipykernel)",
   "language": "python",
   "name": "python3"
  },
  "language_info": {
   "codemirror_mode": {
    "name": "ipython",
    "version": 3
   },
   "file_extension": ".py",
   "mimetype": "text/x-python",
   "name": "python",
   "nbconvert_exporter": "python",
   "pygments_lexer": "ipython3",
   "version": "3.11.5"
  }
 },
 "nbformat": 4,
 "nbformat_minor": 5
}
